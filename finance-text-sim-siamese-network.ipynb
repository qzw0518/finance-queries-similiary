{
 "cells": [
  {
   "cell_type": "markdown",
   "metadata": {},
   "source": [
    "# 加载数据"
   ]
  },
  {
   "cell_type": "code",
   "execution_count": 1,
   "metadata": {},
   "outputs": [],
   "source": [
    "import pandas as pd\n",
    "\n",
    "def load_atec_data():\n",
    "    \"\"\"\n",
    "    加载蚂蚁金服数据集\n",
    "    :return:\n",
    "    \"\"\"\n",
    "    data_train = pd.read_csv('./data/atec_nlp_sim_train.csv', sep='\\t')\n",
    "    data_train.columns = ['index', 'q1', 'q2', 'label']\n",
    "    data_train_add = pd.read_csv('./data/atec_nlp_sim_train_add.csv', sep='\\t')\n",
    "    data_train_add.columns = ['index', 'q1', 'q2', 'label']\n",
    "    train = pd.concat([data_train, data_train_add])\n",
    "    return train\n"
   ]
  },
  {
   "cell_type": "code",
   "execution_count": 2,
   "metadata": {},
   "outputs": [],
   "source": [
    "train = load_atec_data()"
   ]
  },
  {
   "cell_type": "code",
   "execution_count": 3,
   "metadata": {},
   "outputs": [
    {
     "name": "stdout",
     "output_type": "stream",
     "text": [
      "<class 'pandas.core.frame.DataFrame'>\n",
      "Int64Index: 102475 entries, 0 to 63129\n",
      "Data columns (total 4 columns):\n",
      " #   Column  Non-Null Count   Dtype \n",
      "---  ------  --------------   ----- \n",
      " 0   index   102475 non-null  int64 \n",
      " 1   q1      102475 non-null  object\n",
      " 2   q2      102475 non-null  object\n",
      " 3   label   102475 non-null  int64 \n",
      "dtypes: int64(2), object(2)\n",
      "memory usage: 3.9+ MB\n"
     ]
    }
   ],
   "source": [
    "train.info()"
   ]
  },
  {
   "cell_type": "code",
   "execution_count": 4,
   "metadata": {},
   "outputs": [
    {
     "data": {
      "text/html": [
       "<div>\n",
       "<style scoped>\n",
       "    .dataframe tbody tr th:only-of-type {\n",
       "        vertical-align: middle;\n",
       "    }\n",
       "\n",
       "    .dataframe tbody tr th {\n",
       "        vertical-align: top;\n",
       "    }\n",
       "\n",
       "    .dataframe thead th {\n",
       "        text-align: right;\n",
       "    }\n",
       "</style>\n",
       "<table border=\"1\" class=\"dataframe\">\n",
       "  <thead>\n",
       "    <tr style=\"text-align: right;\">\n",
       "      <th></th>\n",
       "      <th>index</th>\n",
       "      <th>q1</th>\n",
       "      <th>q2</th>\n",
       "      <th>label</th>\n",
       "    </tr>\n",
       "  </thead>\n",
       "  <tbody>\n",
       "    <tr>\n",
       "      <th>0</th>\n",
       "      <td>2</td>\n",
       "      <td>也开不了花呗，就这样了？完事了</td>\n",
       "      <td>真的嘛？就是花呗付款</td>\n",
       "      <td>0</td>\n",
       "    </tr>\n",
       "    <tr>\n",
       "      <th>1</th>\n",
       "      <td>3</td>\n",
       "      <td>花呗冻结以后还能开通吗</td>\n",
       "      <td>我的条件可以开通花呗借款吗</td>\n",
       "      <td>0</td>\n",
       "    </tr>\n",
       "    <tr>\n",
       "      <th>2</th>\n",
       "      <td>4</td>\n",
       "      <td>如何得知关闭借呗</td>\n",
       "      <td>想永久关闭借呗</td>\n",
       "      <td>0</td>\n",
       "    </tr>\n",
       "    <tr>\n",
       "      <th>3</th>\n",
       "      <td>5</td>\n",
       "      <td>花呗扫码付钱</td>\n",
       "      <td>二维码扫描可以用花呗吗</td>\n",
       "      <td>0</td>\n",
       "    </tr>\n",
       "    <tr>\n",
       "      <th>4</th>\n",
       "      <td>6</td>\n",
       "      <td>花呗逾期后不能分期吗</td>\n",
       "      <td>我这个 逾期后还完了 最低还款 后 能分期吗</td>\n",
       "      <td>0</td>\n",
       "    </tr>\n",
       "  </tbody>\n",
       "</table>\n",
       "</div>"
      ],
      "text/plain": [
       "   index               q1                      q2  label\n",
       "0      2  也开不了花呗，就这样了？完事了              真的嘛？就是花呗付款      0\n",
       "1      3      花呗冻结以后还能开通吗           我的条件可以开通花呗借款吗      0\n",
       "2      4         如何得知关闭借呗                 想永久关闭借呗      0\n",
       "3      5           花呗扫码付钱             二维码扫描可以用花呗吗      0\n",
       "4      6       花呗逾期后不能分期吗  我这个 逾期后还完了 最低还款 后 能分期吗      0"
      ]
     },
     "execution_count": 4,
     "metadata": {},
     "output_type": "execute_result"
    }
   ],
   "source": [
    "train.head()"
   ]
  },
  {
   "cell_type": "code",
   "execution_count": 5,
   "metadata": {},
   "outputs": [
    {
     "data": {
      "text/plain": [
       "0    83792\n",
       "1    18683\n",
       "Name: label, dtype: int64"
      ]
     },
     "execution_count": 5,
     "metadata": {},
     "output_type": "execute_result"
    }
   ],
   "source": [
    "train[\"label\"].value_counts()"
   ]
  },
  {
   "cell_type": "markdown",
   "metadata": {},
   "source": [
    "# 数据预处理"
   ]
  },
  {
   "cell_type": "code",
   "execution_count": 6,
   "metadata": {},
   "outputs": [],
   "source": [
    "from collections import Counter\n",
    "from tensorflow.keras.preprocessing.sequence import pad_sequences\n",
    "import numpy as np\n",
    "import jieba\n",
    "from gensim.models import Word2Vec"
   ]
  },
  {
   "cell_type": "markdown",
   "metadata": {},
   "source": [
    "## 数据分布统计与最佳超参数选择"
   ]
  },
  {
   "cell_type": "code",
   "execution_count": 7,
   "metadata": {},
   "outputs": [],
   "source": [
    "# 因为数据长度不一，我们根据数据分布选择合适的截断长度\n",
    "def select_best_length(train,limit_ratio=0.95):\n",
    "    \"\"\"\n",
    "    根据数据集的句子长度，选择最佳的样本max-length\n",
    "    :param limit_ratio:句子长度覆盖度，默认覆盖95%以上的句子\n",
    "    :return:\n",
    "    \"\"\"\n",
    "    len_list = []\n",
    "    max_length = 0\n",
    "    cover_rate = 0.0\n",
    "    for q1, q2 in zip(train['q1'], train['q2']):\n",
    "        len_list.append(len(jieba.lcut(q1)))\n",
    "        len_list.append(len(jieba.lcut(q2)))\n",
    "    all_sent = len(len_list)\n",
    "    sum_length = 0\n",
    "    len_dict = Counter(len_list).most_common()\n",
    "    for i in len_dict:\n",
    "        sum_length += i[1] * i[0]\n",
    "    average_length = sum_length / all_sent\n",
    "    for i in len_dict:\n",
    "        rate = i[1] / all_sent\n",
    "        cover_rate += rate\n",
    "        if cover_rate >= limit_ratio: # 这种统计有bug，这个只是找到了第95%的频次数据位置，如果这个频数位置对应的数凑巧很小就gg\n",
    "            max_length = i[0]\n",
    "            break\n",
    "    print('句子平均包含词个数:', average_length)\n",
    "    print('最长的句子词个数:', max_length)\n",
    "    return max_length"
   ]
  },
  {
   "cell_type": "code",
   "execution_count": 8,
   "metadata": {},
   "outputs": [
    {
     "name": "stderr",
     "output_type": "stream",
     "text": [
      "Building prefix dict from the default dictionary ...\n",
      "Loading model from cache /tmp/jieba.cache\n",
      "Loading model cost 0.694 seconds.\n",
      "Prefix dict has been built successfully.\n"
     ]
    },
    {
     "name": "stdout",
     "output_type": "stream",
     "text": [
      "句子平均包含词个数: 9.015403757013905\n",
      "最长的句子词个数: 17\n"
     ]
    }
   ],
   "source": [
    "MAX_LENGTH = select_best_length(train)"
   ]
  },
  {
   "cell_type": "markdown",
   "metadata": {},
   "source": [
    "## 构建数据集\n",
    "构建一个映射词典，把词映射成id，并把对应的映射词典存储起来"
   ]
  },
  {
   "cell_type": "code",
   "execution_count": 9,
   "metadata": {},
   "outputs": [],
   "source": [
    "def build_data(train):\n",
    "    \"\"\"\n",
    "    构建数据集\n",
    "    :return:\n",
    "    \"\"\"\n",
    "    sample_x_left = train.q1.apply(lambda x: jieba.lcut(x)).tolist()\n",
    "    sample_x_right = train.q2.apply(lambda x: jieba.lcut(x)).tolist()\n",
    "    # 新加一个unk来处理没有遇到过的词\n",
    "    vocabs = {'UNK'}\n",
    "    # 遍历数据构建词典\n",
    "    for x_left, x_right in zip(sample_x_left, sample_x_right):\n",
    "        for word in x_left + x_right:\n",
    "            vocabs.add(word)\n",
    "    # 构建数据集与词典\n",
    "    sample_x = [sample_x_left, sample_x_right]\n",
    "    sample_y = train.label.tolist()\n",
    "    print('句1样本数量：',len(sample_x_left),'，句2样本数量：', len(sample_x_right))\n",
    "    datas = [sample_x, sample_y]\n",
    "    word_dict = {wd: index for index, wd in enumerate(list(vocabs))}\n",
    "    vocab_path = './model/vocab.txt'\n",
    "    with open(vocab_path, 'w', encoding='utf-8') as f:\n",
    "        f.write('\\n'.join(list(vocabs)))\n",
    "    return datas, word_dict"
   ]
  },
  {
   "cell_type": "code",
   "execution_count": 10,
   "metadata": {},
   "outputs": [
    {
     "name": "stdout",
     "output_type": "stream",
     "text": [
      "句1样本数量： 102475 ，句2样本数量： 102475\n"
     ]
    }
   ],
   "source": [
    "datas, word_dict = build_data(train)"
   ]
  },
  {
   "cell_type": "markdown",
   "metadata": {},
   "source": [
    "## 对数据完成处理得到词id构成的数据"
   ]
  },
  {
   "cell_type": "code",
   "execution_count": 11,
   "metadata": {},
   "outputs": [],
   "source": [
    "def convert_data(datas, word_dict, MAX_LENGTH):\n",
    "    \"\"\"\n",
    "    将数据转换成keras所能处理的格式\n",
    "    :return: \n",
    "    \"\"\"\n",
    "    sample_x = datas[0]\n",
    "    sample_y = datas[1]\n",
    "    sample_x_left = sample_x[0]\n",
    "    sample_x_right = sample_x[1]\n",
    "    \n",
    "    # 句1 与 句2\n",
    "    left_x_train = [[word_dict[word] for word in data] for data in sample_x_left]\n",
    "    right_x_train = [[word_dict[word] for word in data] for data in sample_x_right]\n",
    "    \n",
    "    # 标签\n",
    "    y_train = [int(i) for i in sample_y]\n",
    "    \n",
    "    # 用统计的最佳长度对原始数据进行截断和补齐\n",
    "    left_x_train = pad_sequences(left_x_train, MAX_LENGTH, padding='pre')\n",
    "    right_x_train = pad_sequences(right_x_train, MAX_LENGTH, padding='pre')\n",
    "    y_train = np.expand_dims(np.array(y_train), axis=1)\n",
    "    return left_x_train, right_x_train, y_train"
   ]
  },
  {
   "cell_type": "markdown",
   "metadata": {},
   "source": [
    "## 训练word2vec"
   ]
  },
  {
   "cell_type": "code",
   "execution_count": 12,
   "metadata": {},
   "outputs": [],
   "source": [
    "# 训练300维的词向量\n",
    "def train_w2v(datas):\n",
    "    \"\"\"\n",
    "    训练词向量\n",
    "    :return:\n",
    "    \"\"\"\n",
    "    sents = datas[0][0] + datas[0][1]\n",
    "    model = Word2Vec(sentences=sents, vector_size=300, min_count=1)\n",
    "    model.wv.save_word2vec_format('./model/token_vec_300.bin', binary=False)"
   ]
  },
  {
   "cell_type": "code",
   "execution_count": 13,
   "metadata": {},
   "outputs": [],
   "source": [
    "train_w2v(datas)"
   ]
  },
  {
   "cell_type": "code",
   "execution_count": 14,
   "metadata": {},
   "outputs": [],
   "source": [
    "# 加载预训练的词向量\n",
    "def load_pretrained_embedding():\n",
    "    \"\"\"\n",
    "    加载预训练的词向量\n",
    "    :return:\n",
    "    \"\"\"\n",
    "    embedding_file = './model/token_vec_300.bin'\n",
    "    embeddings_dict = {}\n",
    "    with open(embedding_file, 'r', encoding='utf-8') as f:\n",
    "        for line in f:\n",
    "            values = line.strip().split(' ')\n",
    "            if len(values) < 100:\n",
    "                continue\n",
    "            word = values[0]\n",
    "            coefs = np.asarray(values[1:], dtype='float32')\n",
    "            embeddings_dict[word] = coefs\n",
    "    print('总共有 %s 个词和对应的词向量' % len(embeddings_dict))\n",
    "    return embeddings_dict"
   ]
  },
  {
   "cell_type": "code",
   "execution_count": 15,
   "metadata": {},
   "outputs": [],
   "source": [
    "# 构建embedding矩阵\n",
    "def build_embedding_matrix(word_dict, embedding_dict, VOCAB_SIZE, EMBEDDING_DIM):\n",
    "    \"\"\"\n",
    "    加载词向量矩阵\n",
    "    :return:\n",
    "    \"\"\"\n",
    "    embedding_matrix = np.zeros((VOCAB_SIZE + 1, EMBEDDING_DIM))\n",
    "    for word, i in word_dict.items():\n",
    "        embedding_vector = embedding_dict.get(word)\n",
    "        if embedding_vector is not None:\n",
    "            embedding_matrix[i] = embedding_vector\n",
    "    return embedding_matrix"
   ]
  },
  {
   "cell_type": "markdown",
   "metadata": {},
   "source": [
    "# 模型构建与训练\n",
    "## 导入工具库"
   ]
  },
  {
   "cell_type": "code",
   "execution_count": 16,
   "metadata": {},
   "outputs": [],
   "source": [
    "from tensorflow.keras.models import load_model\n",
    "import tensorflow as tf\n",
    "from tensorflow.keras.preprocessing.sequence import pad_sequences\n",
    "from tensorflow.keras.models import Model\n",
    "from tensorflow.keras.layers import Input, Embedding, LSTM, Dropout, Lambda, Bidirectional, Dense\n",
    "\n",
    "import matplotlib.pyplot as plt\n",
    "import os\n",
    "os.environ['TF_CPP_MIN_LOG_LEVEL'] = '2'"
   ]
  },
  {
   "cell_type": "markdown",
   "metadata": {},
   "source": [
    "## 参数设置"
   ]
  },
  {
   "cell_type": "code",
   "execution_count": 17,
   "metadata": {},
   "outputs": [],
   "source": [
    "# 1个batch的样本量\n",
    "BATCH_SIZE = 512\n",
    "# embedding的维度\n",
    "EMBEDDING_DIM = 300\n",
    "# 训练迭代轮次\n",
    "EPOCHS = 20\n",
    "# 模型存储地址\n",
    "model_path = './model/tokenvec_bilstm2_siamese_model.h5'"
   ]
  },
  {
   "cell_type": "markdown",
   "metadata": {},
   "source": [
    "## 数据准备"
   ]
  },
  {
   "cell_type": "code",
   "execution_count": 18,
   "metadata": {},
   "outputs": [
    {
     "name": "stdout",
     "output_type": "stream",
     "text": [
      "总共有 13701 个词和对应的词向量\n"
     ]
    }
   ],
   "source": [
    "# 词表大小\n",
    "VOCAB_SIZE = len(word_dict)\n",
    "# embedding字典矩阵\n",
    "embeddings_dict = load_pretrained_embedding()\n",
    "embedding_matrix = build_embedding_matrix(word_dict, embeddings_dict,\n",
    "                                          VOCAB_SIZE, EMBEDDING_DIM)\n",
    "# 构建数据\n",
    "left_x_train, right_x_train, y_train = convert_data(datas, word_dict, MAX_LENGTH)"
   ]
  },
  {
   "cell_type": "markdown",
   "metadata": {},
   "source": [
    "## 构建相似度计算模块"
   ]
  },
  {
   "cell_type": "code",
   "execution_count": 19,
   "metadata": {},
   "outputs": [],
   "source": [
    "# 计算相似度\n",
    "def exponent_neg_manhattan_distance(sent_left, sent_right):\n",
    "    '''基于曼哈顿空间距离计算两个字符串语义空间表示相似度计算'''\n",
    "    return tf.exp(-tf.math.reduce_sum(tf.abs(sent_left - sent_right), axis=1, keepdims=True))\n"
   ]
  },
  {
   "cell_type": "markdown",
   "metadata": {},
   "source": [
    "## 构建共享的特征抽取网络"
   ]
  },
  {
   "cell_type": "code",
   "execution_count": 20,
   "metadata": {},
   "outputs": [],
   "source": [
    "def create_base_network(input_shape):\n",
    "    '''搭建编码层网络,用于权重共享'''\n",
    "    input = Input(shape=input_shape)\n",
    "    lstm = Bidirectional(LSTM(128))(input)\n",
    "    output = Dense(16)(lstm)\n",
    "    # output = Dropout(0.5)(output)\n",
    "    return Model(input, output)"
   ]
  },
  {
   "cell_type": "code",
   "execution_count": 21,
   "metadata": {},
   "outputs": [],
   "source": [
    "# 有一个小的冲突，numpy的升级可能和tensorflow有冲突，这里降级到1.19.5的numpy版本\n",
    "#!pip3 install numpy==1.19.5 --user"
   ]
  },
  {
   "cell_type": "markdown",
   "metadata": {},
   "source": [
    "## 构建完整网络"
   ]
  },
  {
   "cell_type": "code",
   "execution_count": 22,
   "metadata": {},
   "outputs": [],
   "source": [
    "def bilstm_siamese_model():\n",
    "    '''搭建网络'''\n",
    "    # 词嵌入层，用预训练的词向量\n",
    "    embedding_layer = Embedding(VOCAB_SIZE + 1,\n",
    "                                EMBEDDING_DIM,\n",
    "                                weights=[embedding_matrix],\n",
    "                                input_length=MAX_LENGTH,\n",
    "                                trainable=False,\n",
    "                                mask_zero=True)\n",
    "    # 左右侧的输入\n",
    "    left_input = Input(shape=(MAX_LENGTH,), dtype='float32', name=\"left_x\")\n",
    "    right_input = Input(shape=(MAX_LENGTH,), dtype='float32', name='right_x')\n",
    "    \n",
    "    # 使用共享的embedding映射对左右句子进行编码\n",
    "    encoded_left = embedding_layer(left_input)\n",
    "    encoded_right = embedding_layer(right_input)\n",
    "    \n",
    "    # 构建共享的LSTM语义抽取组件\n",
    "    shared_lstm = create_base_network(input_shape=(MAX_LENGTH, EMBEDDING_DIM))\n",
    "    left_output = shared_lstm(encoded_left)\n",
    "    right_output = shared_lstm(encoded_right)\n",
    "    \n",
    "    # 计算语义相似度\n",
    "    distance = Lambda(lambda x: exponent_neg_manhattan_distance(x[0], x[1]),\n",
    "                      output_shape=lambda x: (x[0][0], 1))([left_output, right_output])\n",
    "    \n",
    "    \n",
    "    # 构建模型\n",
    "    model = Model([left_input, right_input], distance)\n",
    "    \n",
    "    # 定义损失函数与优化器\n",
    "    model.compile(loss='binary_crossentropy',\n",
    "                  optimizer='adam',\n",
    "                  metrics=['accuracy'])\n",
    "    \n",
    "    # 输出模型信息\n",
    "    model.summary()\n",
    "    return model"
   ]
  },
  {
   "cell_type": "markdown",
   "metadata": {},
   "source": [
    "## 模型训练"
   ]
  },
  {
   "cell_type": "code",
   "execution_count": 23,
   "metadata": {},
   "outputs": [],
   "source": [
    "from tensorflow.keras.utils import plot_model\n",
    "\n",
    "def train_model():\n",
    "    '''训练模型'''\n",
    "    model = bilstm_siamese_model()\n",
    "    plot_model(model, show_shapes=True, to_file='./model/model.png')\n",
    "    history = model.fit(\n",
    "        x=[left_x_train, right_x_train],\n",
    "        y=y_train,\n",
    "        validation_split=0.2,\n",
    "        batch_size=BATCH_SIZE,\n",
    "        epochs=EPOCHS,\n",
    "    )\n",
    "    model.save(model_path)\n",
    "    return model, history"
   ]
  },
  {
   "cell_type": "code",
   "execution_count": 24,
   "metadata": {},
   "outputs": [
    {
     "name": "stdout",
     "output_type": "stream",
     "text": [
      "Model: \"model_1\"\n",
      "__________________________________________________________________________________________________\n",
      " Layer (type)                   Output Shape         Param #     Connected to                     \n",
      "==================================================================================================\n",
      " left_x (InputLayer)            [(None, 17)]         0           []                               \n",
      "                                                                                                  \n",
      " right_x (InputLayer)           [(None, 17)]         0           []                               \n",
      "                                                                                                  \n",
      " embedding (Embedding)          (None, 17, 300)      4110900     ['left_x[0][0]',                 \n",
      "                                                                  'right_x[0][0]']                \n",
      "                                                                                                  \n",
      " model (Functional)             (None, 16)           443408      ['embedding[0][0]',              \n",
      "                                                                  'embedding[1][0]']              \n",
      "                                                                                                  \n",
      " lambda (Lambda)                (None, 1)            0           ['model[0][0]',                  \n",
      "                                                                  'model[1][0]']                  \n",
      "                                                                                                  \n",
      "==================================================================================================\n",
      "Total params: 4,554,308\n",
      "Trainable params: 443,408\n",
      "Non-trainable params: 4,110,900\n",
      "__________________________________________________________________________________________________\n",
      "Epoch 1/20\n",
      "161/161 [==============================] - 33s 139ms/step - loss: 0.4395 - accuracy: 0.8148 - val_loss: 0.3946 - val_accuracy: 0.8383\n",
      "Epoch 2/20\n",
      "161/161 [==============================] - 19s 117ms/step - loss: 0.4039 - accuracy: 0.8188 - val_loss: 0.3831 - val_accuracy: 0.8399\n",
      "Epoch 3/20\n",
      "161/161 [==============================] - 19s 117ms/step - loss: 0.3846 - accuracy: 0.8227 - val_loss: 0.3744 - val_accuracy: 0.8411\n",
      "Epoch 4/20\n",
      "161/161 [==============================] - 19s 119ms/step - loss: 0.3711 - accuracy: 0.8268 - val_loss: 0.3703 - val_accuracy: 0.8420\n",
      "Epoch 5/20\n",
      "161/161 [==============================] - 19s 118ms/step - loss: 0.3608 - accuracy: 0.8300 - val_loss: 0.3681 - val_accuracy: 0.8437\n",
      "Epoch 6/20\n",
      "161/161 [==============================] - 19s 118ms/step - loss: 0.3517 - accuracy: 0.8328 - val_loss: 0.3663 - val_accuracy: 0.8425\n",
      "Epoch 7/20\n",
      "161/161 [==============================] - 19s 118ms/step - loss: 0.3435 - accuracy: 0.8343 - val_loss: 0.3640 - val_accuracy: 0.8445\n",
      "Epoch 8/20\n",
      "161/161 [==============================] - 19s 118ms/step - loss: 0.3360 - accuracy: 0.8373 - val_loss: 0.3636 - val_accuracy: 0.8433\n",
      "Epoch 9/20\n",
      "161/161 [==============================] - 19s 118ms/step - loss: 0.3293 - accuracy: 0.8402 - val_loss: 0.3626 - val_accuracy: 0.8449\n",
      "Epoch 10/20\n",
      "161/161 [==============================] - 19s 119ms/step - loss: 0.3224 - accuracy: 0.8421 - val_loss: 0.3629 - val_accuracy: 0.8439\n",
      "Epoch 11/20\n",
      "161/161 [==============================] - 19s 119ms/step - loss: 0.3162 - accuracy: 0.8436 - val_loss: 0.3628 - val_accuracy: 0.8435\n",
      "Epoch 12/20\n",
      "161/161 [==============================] - 19s 119ms/step - loss: 0.3102 - accuracy: 0.8466 - val_loss: 0.3623 - val_accuracy: 0.8430\n",
      "Epoch 13/20\n",
      "161/161 [==============================] - 19s 119ms/step - loss: 0.3037 - accuracy: 0.8497 - val_loss: 0.3625 - val_accuracy: 0.8437\n",
      "Epoch 14/20\n",
      "161/161 [==============================] - 19s 118ms/step - loss: 0.2979 - accuracy: 0.8519 - val_loss: 0.3639 - val_accuracy: 0.8434\n",
      "Epoch 15/20\n",
      "161/161 [==============================] - 19s 118ms/step - loss: 0.2929 - accuracy: 0.8540 - val_loss: 0.3644 - val_accuracy: 0.8435\n",
      "Epoch 16/20\n",
      "161/161 [==============================] - 19s 118ms/step - loss: 0.2862 - accuracy: 0.8568 - val_loss: 0.3644 - val_accuracy: 0.8440\n",
      "Epoch 17/20\n",
      "161/161 [==============================] - 19s 119ms/step - loss: 0.2812 - accuracy: 0.8596 - val_loss: 0.3666 - val_accuracy: 0.8438\n",
      "Epoch 18/20\n",
      "161/161 [==============================] - 19s 119ms/step - loss: 0.2750 - accuracy: 0.8631 - val_loss: 0.3666 - val_accuracy: 0.8442\n",
      "Epoch 19/20\n",
      "161/161 [==============================] - 19s 118ms/step - loss: 0.2692 - accuracy: 0.8659 - val_loss: 0.3677 - val_accuracy: 0.8440\n",
      "Epoch 20/20\n",
      "161/161 [==============================] - 19s 118ms/step - loss: 0.2635 - accuracy: 0.8687 - val_loss: 0.3688 - val_accuracy: 0.8438\n"
     ]
    }
   ],
   "source": [
    "model, history = train_model()"
   ]
  },
  {
   "cell_type": "markdown",
   "metadata": {},
   "source": [
    "## 绘制模型训练中间信息"
   ]
  },
  {
   "cell_type": "code",
   "execution_count": 25,
   "metadata": {},
   "outputs": [],
   "source": [
    "def draw_train(history):\n",
    "    '''绘制训练曲线'''\n",
    "    # Plot training & validation accuracy values\n",
    "    plt.plot(history.history['accuracy'])\n",
    "    plt.plot(history.history['val_accuracy'])\n",
    "    plt.title('Model accuracy')\n",
    "    plt.ylabel('Accuracy')\n",
    "    plt.xlabel('Epoch')\n",
    "    plt.legend(['Train', 'Test'], loc='upper left')\n",
    "    plt.show()\n",
    "\n",
    "    # Plot training & validation loss values\n",
    "    plt.plot(history.history['loss'])\n",
    "    plt.plot(history.history['val_loss'])\n",
    "    plt.title('Model loss')\n",
    "    plt.ylabel('Loss')\n",
    "    plt.xlabel('Epoch')\n",
    "    plt.legend(['Train', 'Test'], loc='upper left')\n",
    "    #plt.savefig(\"model/result.png\")\n",
    "    plt.show()"
   ]
  },
  {
   "cell_type": "code",
   "execution_count": 26,
   "metadata": {},
   "outputs": [
    {
     "data": {
      "image/png": "[encoded data removed]",
      "text/plain": [
       "<Figure size 432x288 with 1 Axes>"
      ]
     },
     "metadata": {
      "needs_background": "light"
     },
     "output_type": "display_data"
    },
    {
     "data": {
      "image/png": "[encoded data removed]",
      "text/plain": [
       "<Figure size 432x288 with 1 Axes>"
      ]
     },
     "metadata": {
      "needs_background": "light"
     },
     "output_type": "display_data"
    }
   ],
   "source": [
    "draw_train(history)"
   ]
  },
  {
   "cell_type": "code",
   "execution_count": null,
   "metadata": {},
   "outputs": [],
   "source": []
  }
 ],
 "metadata": {
  "kernelspec": {
   "display_name": "default:Python",
   "language": "python",
   "name": "conda-env-default-py"
  },
  "language_info": {
   "codemirror_mode": {
    "name": "ipython",
    "version": 3
   },
   "file_extension": ".py",
   "mimetype": "text/x-python",
   "name": "python",
   "nbconvert_exporter": "python",
   "pygments_lexer": "ipython3",
   "version": "3.9.13"
  },
  "toc": {
   "base_numbering": 1,
   "nav_menu": {},
   "number_sections": true,
   "sideBar": true,
   "skip_h1_title": false,
   "title_cell": "Table of Contents",
   "title_sidebar": "Contents",
   "toc_cell": false,
   "toc_position": {},
   "toc_section_display": true,
   "toc_window_display": true
  },
  "toc-autonumbering": true
 },
 "nbformat": 4,
 "nbformat_minor": 4
}
